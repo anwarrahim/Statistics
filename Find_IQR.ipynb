{
 "cells": [
  {
   "cell_type": "markdown",
   "source": [
    "# Find the IQR( Inter Quartile Range) to identify outliers"
   ],
   "metadata": {
    "collapsed": false
   },
   "id": "78df59ea516afd83"
  },
  {
   "cell_type": "code",
   "execution_count": null,
   "outputs": [],
   "source": [],
   "metadata": {
    "collapsed": false
   },
   "id": "8e80361e323c9fb6"
  }
 ],
 "metadata": {
  "kernelspec": {
   "display_name": "Python 3",
   "language": "python",
   "name": "python3"
  },
  "language_info": {
   "codemirror_mode": {
    "name": "ipython",
    "version": 2
   },
   "file_extension": ".py",
   "mimetype": "text/x-python",
   "name": "python",
   "nbconvert_exporter": "python",
   "pygments_lexer": "ipython2",
   "version": "2.7.6"
  }
 },
 "nbformat": 4,
 "nbformat_minor": 5
}
